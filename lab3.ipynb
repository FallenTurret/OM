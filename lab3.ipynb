{
 "cells": [
  {
   "cell_type": "code",
   "execution_count": 227,
   "metadata": {},
   "outputs": [],
   "source": [
    "import numpy as np\n",
    "import copy\n",
    "eps = 1e-6"
   ]
  },
  {
   "cell_type": "code",
   "execution_count": 402,
   "metadata": {},
   "outputs": [],
   "source": [
    "def simplex_canonical_basis(c, A, b, x0, basis):\n",
    "    n = A.shape[1]\n",
    "    m = A.shape[0]\n",
    "    inv = np.linalg.inv(A[:, basis])\n",
    "    bb = inv.dot(b)\n",
    "    As = inv.dot(np.delete(A, basis, axis=1))\n",
    "    G = np.zeros((m + 1, n + 1))\n",
    "    G[:m, 0] = bb\n",
    "    G[m][0] = -c.dot(x0)\n",
    "    d = np.delete(c, basis) - np.transpose(As).dot(c[basis])\n",
    "    for i in range(m):\n",
    "        k = 0\n",
    "        for j in range(1, n + 1):\n",
    "            if (basis[i] == j - 1):\n",
    "                G[i][j] = 1\n",
    "            if (not (j - 1 in basis)):\n",
    "                G[i][j] = As[i][k]\n",
    "                k += 1\n",
    "    k = 0\n",
    "    for j in range(1, n + 1):\n",
    "        if (not (j - 1 in basis)):\n",
    "            G[m][j] = d[k]\n",
    "            k += 1\n",
    "    basises = set()\n",
    "    while (True):\n",
    "        basises.add(tuple(basis))\n",
    "        cont = False\n",
    "        for j in range(1, n + 1):\n",
    "            if (G[m][j] < eps or j - 1 in basis):\n",
    "                continue\n",
    "            ind = -1\n",
    "            mn = float(\"inf\")\n",
    "            for i in range(m):\n",
    "                if (G[i][j] > eps and G[i][0] / G[i][j] < mn):\n",
    "                    ind = i\n",
    "                    mn = G[i][0] / G[i][j]\n",
    "            if (ind == -1):\n",
    "                continue\n",
    "            cont = True\n",
    "            basis[ind] = j - 1\n",
    "            basises.clear()\n",
    "            G[ind] = G[ind] / G[ind][j]\n",
    "            for i in range(m + 1):\n",
    "                if (i == ind):\n",
    "                    continue\n",
    "                G[i] -= G[i][j] * G[ind]\n",
    "            break\n",
    "        if (cont):\n",
    "            continue\n",
    "        for j in range(1, n + 1):\n",
    "            if (G[m][j] < -eps or j - 1 in basis):\n",
    "                continue\n",
    "            ind = -1\n",
    "            mn = float(\"inf\")\n",
    "            for i in range(m):\n",
    "                if (G[i][j] > eps and G[i][0] / G[i][j] < mn):\n",
    "                    mn = G[i][0] / G[i][j]\n",
    "            for i in range(m):\n",
    "                if (G[i][j] > eps and G[i][0] / G[i][j] < mn + eps):\n",
    "                    new_basis = copy.copy(basis)\n",
    "                    new_basis[i] = j - 1\n",
    "                    if (not (tuple(new_basis) in basises)):\n",
    "                        ind = i\n",
    "                        break\n",
    "            if (ind == -1):\n",
    "                continue\n",
    "            cont = True\n",
    "            basis[ind] = j - 1\n",
    "            G[ind] = G[ind] / G[ind][j]\n",
    "            for i in range(m + 1):\n",
    "                if (i == ind):\n",
    "                    continue\n",
    "                G[i] -= G[i][j] * G[ind]\n",
    "            break\n",
    "        if (not cont):\n",
    "            break\n",
    "    A = G[:m, 1:]\n",
    "    b = G[:m, 0]\n",
    "    sol = np.linalg.solve(A[:, basis], b)\n",
    "    x = np.zeros(n)\n",
    "    for i in range(m):\n",
    "        x[basis[i]] = sol[i]\n",
    "    return x, basis"
   ]
  },
  {
   "cell_type": "code",
   "execution_count": 403,
   "metadata": {},
   "outputs": [],
   "source": [
    "def simplex_canonical(c, A, b):\n",
    "    n = A.shape[1]\n",
    "    m = A.shape[0]\n",
    "    for i in range(m):\n",
    "        if (b[i] < -eps):\n",
    "            A[i] *= -1\n",
    "            b[i] *= -1\n",
    "    cc = np.hstack((np.zeros(n), -np.ones(m)))\n",
    "    AA = np.hstack((A, np.eye(m)))\n",
    "    x0 = np.hstack((np.zeros(n), b))\n",
    "    basis = [n + i for i in range(m)]\n",
    "    x0, basis = simplex_canonical_basis(cc, AA, b, x0, basis)\n",
    "    x0 = x0[:n]\n",
    "    x, basis = simplex_canonical_basis(c, A, b, x0, basis)\n",
    "    return x"
   ]
  },
  {
   "cell_type": "code",
   "execution_count": 404,
   "metadata": {},
   "outputs": [],
   "source": [
    "def simplex(c, opt='max', leq=None, eq=None, geq=None):\n",
    "    if (geq is not None):\n",
    "        geq[0] *= -1\n",
    "        geq[1] *= -1\n",
    "    if (leq is None):\n",
    "        leq = geq\n",
    "    else:\n",
    "        if (geq is not None):\n",
    "            leq[0] = np.vstack((leq[0], geq[0]))\n",
    "            leq[1] = np.hstack((leq[1], geq[1]))\n",
    "    n = 0\n",
    "    m = 0\n",
    "    k = 0\n",
    "    if (eq is not None):\n",
    "        n = eq[0].shape[1]\n",
    "        k = eq[0].shape[0]\n",
    "    else:\n",
    "        n = leq[0].shape[1]\n",
    "        m = leq[0].shape[0]\n",
    "    if (eq is not None):\n",
    "        eq[0] = np.hstack((eq[0], -eq[0]))\n",
    "    if (leq is not None):\n",
    "        leq[0] = np.hstack((leq[0], -leq[0]))\n",
    "    c = np.hstack((c, -c))\n",
    "    if (m > 0):\n",
    "        leq[0] = np.hstack((leq[0], np.eye(m)))\n",
    "        c = np.hstack((c, np.zeros(m)))\n",
    "        if (eq is None):\n",
    "            eq = leq\n",
    "        else:\n",
    "            eq[0] = np.hstack((eq[0], np.zeros((k, m))))\n",
    "            eq[0] = np.vstack((eq[0], leq[0]))\n",
    "            eq[1] = np.vstack((eq[1], leq[1]))\n",
    "    if (opt == 'min'):\n",
    "        c *= -1\n",
    "    x = simplex_canonical(c, eq[0], eq[1])\n",
    "    return x[:n] - x[n:2 * n]"
   ]
  },
  {
   "cell_type": "code",
   "execution_count": 405,
   "metadata": {},
   "outputs": [
    {
     "name": "stdout",
     "output_type": "stream",
     "text": [
      "(array([0., 4., 0., 0.]), [1, 3])\n"
     ]
    }
   ],
   "source": [
    "c = np.array([6, 1, 4, -5])\n",
    "A = np.array([\n",
    "    [3, 1, -1, 1],\n",
    "    [5, 1, 1, -1]\n",
    "])\n",
    "b = np.array([4, 4])\n",
    "x0 = np.array([1, 0, 0, 1])\n",
    "print(simplex_canonical_basis(c, A, b, x0, [0, 3]))"
   ]
  },
  {
   "cell_type": "code",
   "execution_count": 406,
   "metadata": {},
   "outputs": [
    {
     "name": "stdout",
     "output_type": "stream",
     "text": [
      "(array([2., 2., 0., 0.]), [1, 0])\n"
     ]
    }
   ],
   "source": [
    "c = np.array([1, 2, 3, -1])\n",
    "A = np.array([\n",
    "    [1, -3, -1, -2],\n",
    "    [1, -1, 1, 0]\n",
    "])\n",
    "b = np.array([-4, 0])\n",
    "x0 = np.array([0, 1, 1, 0])\n",
    "print(simplex_canonical_basis(c, A, b, x0, [1, 2]))"
   ]
  },
  {
   "cell_type": "code",
   "execution_count": 407,
   "metadata": {},
   "outputs": [
    {
     "name": "stdout",
     "output_type": "stream",
     "text": [
      "(array([3., 2., 4., 0., 0.]), [2, 1, 0])\n"
     ]
    }
   ],
   "source": [
    "c = np.array([1, 2, 1, -3, 1])\n",
    "A = np.array([\n",
    "    [1, 1, 0, 2, 1],\n",
    "    [1, 1, 1, 3, 2],\n",
    "    [0, 1, 1, 2, 1]\n",
    "])\n",
    "b = np.array([5, 9, 6])\n",
    "x0 = np.array([0, 0, 1, 2, 1])\n",
    "print(simplex_canonical_basis(c, A, b, x0, [2, 3, 4]))"
   ]
  },
  {
   "cell_type": "code",
   "execution_count": 408,
   "metadata": {},
   "outputs": [
    {
     "name": "stdout",
     "output_type": "stream",
     "text": [
      "(array([4., 0., 0., 1., 7.]), [0, 4, 3])\n"
     ]
    }
   ],
   "source": [
    "c = np.array([1, 1, 1, -1, 1])\n",
    "A = np.array([\n",
    "    [1, 1, 2, 0, 0],\n",
    "    [0, -2, -2, 1, -1],\n",
    "    [1, -1, 6, 1, 1]\n",
    "])\n",
    "b = np.array([4, -6, 12])\n",
    "x0 = np.array([1, 1, 2, 0, 0])\n",
    "print(simplex_canonical_basis(c, A, b, x0, [0, 1, 2]))"
   ]
  },
  {
   "cell_type": "code",
   "execution_count": 409,
   "metadata": {},
   "outputs": [
    {
     "name": "stdout",
     "output_type": "stream",
     "text": [
      "[1. 0. 1. 0.]\n"
     ]
    }
   ],
   "source": [
    "c = np.array([1, -4, 3, -10])\n",
    "A = np.array([\n",
    "    [1, 1, -1, -10],\n",
    "    [1, 14, 10, -10]\n",
    "])\n",
    "b = np.array([0, 11])\n",
    "print(simplex_canonical(c, A, b))"
   ]
  },
  {
   "cell_type": "code",
   "execution_count": 414,
   "metadata": {},
   "outputs": [
    {
     "name": "stdout",
     "output_type": "stream",
     "text": [
      "[0. 0. 0. 3.]\n"
     ]
    }
   ],
   "source": [
    "c = np.array([-1, 5, 1, -1])\n",
    "l = np.array([\n",
    "    [1, 3, 3, 1],\n",
    "    [2, 0, 3, -1]\n",
    "])\n",
    "bl = np.array([3, 4])\n",
    "g = np.eye(4)\n",
    "bg = np.zeros(4)\n",
    "print(simplex(c, opt='min', leq=[l, bl], geq=[g, bg]))"
   ]
  },
  {
   "cell_type": "code",
   "execution_count": 411,
   "metadata": {},
   "outputs": [
    {
     "name": "stdout",
     "output_type": "stream",
     "text": [
      "[ 0.  0. 10.  0.  0.]\n"
     ]
    }
   ],
   "source": [
    "c = np.array([1, 1, -1, 1, -2])\n",
    "A = np.array([\n",
    "    [3, 1, 1, 1, -2],\n",
    "    [6, 1, 2, 3, -4],\n",
    "    [10, 1, 3, 6, -7]\n",
    "])\n",
    "b = np.array([10, 20, 30])\n",
    "print(simplex_canonical(c, A, b))"
   ]
  },
  {
   "cell_type": "code",
   "execution_count": 415,
   "metadata": {},
   "outputs": [
    {
     "name": "stdout",
     "output_type": "stream",
     "text": [
      "(array([0., 0., 1., 1.]), [2, 3])\n"
     ]
    }
   ],
   "source": [
    "c = np.array([-1, -1, 2, 3])\n",
    "A = np.array([\n",
    "    [2, -1, 1, 0],\n",
    "    [-1, 2, 0, 1]\n",
    "])\n",
    "b = np.array([1, 1])\n",
    "x0 = np.array([0, 0, 1, 1])\n",
    "print(simplex_canonical_basis(c, A, b, x0, [2, 3]))"
   ]
  },
  {
   "cell_type": "code",
   "execution_count": null,
   "metadata": {},
   "outputs": [],
   "source": []
  }
 ],
 "metadata": {
  "kernelspec": {
   "display_name": "Python 3",
   "language": "python",
   "name": "python3"
  },
  "language_info": {
   "codemirror_mode": {
    "name": "ipython",
    "version": 3
   },
   "file_extension": ".py",
   "mimetype": "text/x-python",
   "name": "python",
   "nbconvert_exporter": "python",
   "pygments_lexer": "ipython3",
   "version": "3.8.5"
  }
 },
 "nbformat": 4,
 "nbformat_minor": 4
}
